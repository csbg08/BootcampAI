{
  "nbformat": 4,
  "nbformat_minor": 0,
  "metadata": {
    "colab": {
      "name": "Clasif_Img_Convol.ipynb",
      "provenance": [],
      "authorship_tag": "ABX9TyN2b+rOum9jybw0vNtWAFA2",
      "include_colab_link": true
    },
    "kernelspec": {
      "name": "python3",
      "display_name": "Python 3"
    },
    "language_info": {
      "name": "python"
    }
  },
  "cells": [
    {
      "cell_type": "markdown",
      "metadata": {
        "id": "view-in-github",
        "colab_type": "text"
      },
      "source": [
        "<a href=\"https://colab.research.google.com/github/csbg08/BootcampAI/blob/main/Clasif_Img_Convol.ipynb\" target=\"_parent\"><img src=\"https://colab.research.google.com/assets/colab-badge.svg\" alt=\"Open In Colab\"/></a>"
      ]
    },
    {
      "cell_type": "code",
      "execution_count": null,
      "metadata": {
        "id": "P9Xf63t9QWyH"
      },
      "outputs": [],
      "source": [
        "# Primero importamos Numpy y ajustamos la semilla del generador aleatorio, para tener reproducibilidad en el entrenamiento, \n",
        "#es decir para que los coeficientes de los filtros y de la Red Neuronal se inicialicen siempre en el mismo valor aleatorio.\n",
        "\n",
        "import numpy as np\n",
        "np.random.seed(2)\n",
        "\n",
        "import matplotlib.pyplot as plt\n"
      ]
    },
    {
      "cell_type": "code",
      "source": [
        ""
      ],
      "metadata": {
        "id": "TMeQgmP7c9tQ"
      },
      "execution_count": null,
      "outputs": []
    },
    {
      "cell_type": "code",
      "source": [
        ""
      ],
      "metadata": {
        "id": "8nAcsyrTawnM"
      },
      "execution_count": null,
      "outputs": []
    },
    {
      "cell_type": "code",
      "source": [
        ""
      ],
      "metadata": {
        "id": "T0-VtxyLaNpp"
      },
      "execution_count": null,
      "outputs": []
    },
    {
      "cell_type": "code",
      "source": [
        "# mnist para cargar el set de datos de forma sencilla.\n",
        "#También importamos np_utils, que permite representar cada etiqueta de las imágenes en el formato one-hot, requerido por Keras durante \n",
        "#el entrenamiento y la validación de la Red Convolucional:\n",
        "\n",
        "from keras.datasets import mnist\n",
        "from keras.utils import np_utils"
      ],
      "metadata": {
        "id": "0aFBGYK2S6yq"
      },
      "execution_count": null,
      "outputs": []
    },
    {
      "cell_type": "code",
      "source": [
        ""
      ],
      "metadata": {
        "id": "elHOTMyxc-WM"
      },
      "execution_count": null,
      "outputs": []
    },
    {
      "cell_type": "code",
      "source": [
        ""
      ],
      "metadata": {
        "id": "zurNEyN1a1O4"
      },
      "execution_count": null,
      "outputs": []
    },
    {
      "cell_type": "code",
      "source": [
        ""
      ],
      "metadata": {
        "id": "Fp_paH7haOZI"
      },
      "execution_count": null,
      "outputs": []
    },
    {
      "cell_type": "code",
      "source": [
        "#Ahora, importamos las librerías Sequential (para crear el contenedor del modelo), Conv2D y Maxpooling2D (para implementar las capas convolucionales), \n",
        "#Flatten y Dense (para la Red Neuronal) así como SGD (para usar el método del Gradiente Descendente durante el entrenamiento):\n",
        "\n",
        "from keras.models import Sequential\n",
        "from keras.layers.convolutional import Conv2D, MaxPooling2D\n",
        "from keras.layers.core import Flatten, Dense\n",
        "#from keras.optimizers import SGD\n",
        "from tensorflow.keras.optimizers import SGD"
      ],
      "metadata": {
        "id": "g_Yt4V8ETOhz"
      },
      "execution_count": null,
      "outputs": []
    },
    {
      "cell_type": "code",
      "source": [
        ""
      ],
      "metadata": {
        "id": "ZZFBvS23c-9w"
      },
      "execution_count": null,
      "outputs": []
    },
    {
      "cell_type": "code",
      "source": [
        ""
      ],
      "metadata": {
        "id": "6B_LSPI0a17p"
      },
      "execution_count": null,
      "outputs": []
    },
    {
      "cell_type": "code",
      "source": [
        ""
      ],
      "metadata": {
        "id": "o9ywYchOaO5a"
      },
      "execution_count": null,
      "outputs": []
    },
    {
      "cell_type": "code",
      "source": [
        "#***Lectura y pre-procesamiento de los datos***\n",
        "#La lectura de los sets de entrenamiento y validación se realiza de forma sencilla usando la función mnist importada anteriormente:\n",
        "\n",
        "(x_train, y_train), (x_test,y_test) = mnist.load_data()\n",
        "print(x_train.shape)\n",
        "print(y_train.shape)\n",
        "print(x_test.shape)\n",
        "print(y_test.shape)"
      ],
      "metadata": {
        "colab": {
          "base_uri": "https://localhost:8080/"
        },
        "id": "i98C1q6-UfET",
        "outputId": "55d9049b-ae32-4c2a-e730-fdb2751da6a4"
      },
      "execution_count": null,
      "outputs": [
        {
          "output_type": "stream",
          "name": "stdout",
          "text": [
            "(60000, 28, 28)\n",
            "(60000,)\n",
            "(10000, 28, 28)\n",
            "(10000,)\n"
          ]
        }
      ]
    },
    {
      "cell_type": "code",
      "source": [
        ""
      ],
      "metadata": {
        "id": "WM-yDQK3c_mM"
      },
      "execution_count": null,
      "outputs": []
    },
    {
      "cell_type": "code",
      "source": [
        ""
      ],
      "metadata": {
        "id": "-9ytUoPVa29k"
      },
      "execution_count": null,
      "outputs": []
    },
    {
      "cell_type": "code",
      "source": [
        ""
      ],
      "metadata": {
        "id": "fp0PmX3yaQG4"
      },
      "execution_count": null,
      "outputs": []
    },
    {
      "cell_type": "code",
      "source": [
        "#Una vez leídos los datos, y antes de crear la Red Convolucional, es necesario reajustarlos para garantizar que el entrenamiento sea \n",
        "#adecuado y para que los mismos tengan el formato requerido por Keras.\n",
        "\n",
        "#Primero normalizamos cada imagen, para que cada pixel esté en el rango de 0 a 1 (y no de 0 a 255). Esto es necesario para garantizar la \n",
        "#convergencia del algoritmo del Gradiente Descendente durante el entrenamiento:\n",
        "\n",
        "x_train = x_train/255.0\n",
        "x_test = x_test/255.0"
      ],
      "metadata": {
        "id": "KSq-hUoLUye8"
      },
      "execution_count": null,
      "outputs": []
    },
    {
      "cell_type": "code",
      "source": [
        ""
      ],
      "metadata": {
        "id": "N0nL6ZxRdAly"
      },
      "execution_count": null,
      "outputs": []
    },
    {
      "cell_type": "code",
      "source": [
        ""
      ],
      "metadata": {
        "id": "BWP1OFyIa4Ee"
      },
      "execution_count": null,
      "outputs": []
    },
    {
      "cell_type": "code",
      "source": [
        ""
      ],
      "metadata": {
        "id": "t8Zpe9BxaSN-"
      },
      "execution_count": null,
      "outputs": []
    },
    {
      "cell_type": "code",
      "source": [
        "#A continuación convertimos las etiquetas de los sets de entrenamiento y validación al formato one-hot, usando la función np_utils. \n",
        "#En este formato, cada categoría estará representada con una secuencia de números binarios: por ejemplo los dígitos que pertenezcan a \n",
        "#la categoría 4 serán representados por la secuencia  (de ahí el nombre one-hot: sólo uno de los dígitos será diferente de cero):\n",
        "\n",
        "nclases = 10\n",
        "y_train = np_utils.to_categorical(y_train,nclases)\n",
        "y_test = np_utils.to_categorical(y_test,nclases)"
      ],
      "metadata": {
        "id": "Av2iZUhrVIEK"
      },
      "execution_count": null,
      "outputs": []
    },
    {
      "cell_type": "code",
      "source": [
        ""
      ],
      "metadata": {
        "id": "JbVglCcwdBNn"
      },
      "execution_count": null,
      "outputs": []
    },
    {
      "cell_type": "code",
      "source": [
        ""
      ],
      "metadata": {
        "id": "UO4Eo56da4t2"
      },
      "execution_count": null,
      "outputs": []
    },
    {
      "cell_type": "code",
      "source": [
        ""
      ],
      "metadata": {
        "id": "Bq1dVDNgaS-b"
      },
      "execution_count": null,
      "outputs": []
    },
    {
      "cell_type": "code",
      "source": [
        "#Veamos cómo es una de las imágenes del set de entrenamiento. Para ello escogemos una imagen del set y, con Matplotlib, visualizamos \n",
        "#la imagen y la categoría correspondiente:\n",
        "\n",
        "nimagen = 100\n",
        "plt.imshow(x_train[nimagen,:].reshape(28,28), cmap='gray_r')\n",
        "plt.title('Imagen ejemplo - Categoría: ' + str(np.argmax(y_train[nimagen])))\n",
        "plt.axis('off')\n",
        "plt.show()\n"
      ],
      "metadata": {
        "colab": {
          "base_uri": "https://localhost:8080/",
          "height": 264
        },
        "id": "rLpJq0ujVcs9",
        "outputId": "535c0934-6c29-4c10-af97-3963c6bd6f76"
      },
      "execution_count": null,
      "outputs": [
        {
          "output_type": "display_data",
          "data": {
            "text/plain": [
              "<Figure size 432x288 with 1 Axes>"
            ],
            "image/png": "[encoded data removed]"
          },
          "metadata": {
            "needs_background": "light"
          }
        }
      ]
    },
    {
      "cell_type": "code",
      "source": [
        ""
      ],
      "metadata": {
        "id": "M5IB-E9tdB1s"
      },
      "execution_count": null,
      "outputs": []
    },
    {
      "cell_type": "code",
      "source": [
        ""
      ],
      "metadata": {
        "id": "7u0l8BU_a5YT"
      },
      "execution_count": null,
      "outputs": []
    },
    {
      "cell_type": "code",
      "source": [
        ""
      ],
      "metadata": {
        "id": "kvTHPRb6aTt3"
      },
      "execution_count": null,
      "outputs": []
    },
    {
      "cell_type": "code",
      "source": [
        "#Finalmente, debemos reajustar las imágenes de entrenamiento y validación, para indicar explícitamente a Keras que cada imagen tendrá un \n",
        "#solo canal de información (por tratarse de imágenes en escala de gris). Para esto usamos la función reshape de Numpy:\n",
        "\n",
        "x_train = x_train.reshape(60000,28,28,1)\n",
        "x_test = x_test.reshape(10000,28,28,1)"
      ],
      "metadata": {
        "id": "uKC9UkCDVxKS"
      },
      "execution_count": null,
      "outputs": []
    },
    {
      "cell_type": "code",
      "source": [
        ""
      ],
      "metadata": {
        "id": "sOa8czzmdCk0"
      },
      "execution_count": null,
      "outputs": []
    },
    {
      "cell_type": "code",
      "source": [
        ""
      ],
      "metadata": {
        "id": "8xh9Uimda6Yc"
      },
      "execution_count": null,
      "outputs": []
    },
    {
      "cell_type": "code",
      "source": [
        ""
      ],
      "metadata": {
        "id": "mundsuL2aUyO"
      },
      "execution_count": null,
      "outputs": []
    },
    {
      "cell_type": "code",
      "source": [
        "#Creación del modelo en Keras\n",
        "#Bien, ya tenemos todo listo para implementar el modelo usando Keras.\n",
        "\n",
        "#El primer paso es usar Sequential para crear el contenedor del modelo, en donde progresivamente se irán añadiendo las diferentes capas de la Red Convolucional:\n",
        "\n",
        "modelo = Sequential()"
      ],
      "metadata": {
        "id": "hiUtDexwWCn8"
      },
      "execution_count": null,
      "outputs": []
    },
    {
      "cell_type": "code",
      "source": [
        ""
      ],
      "metadata": {
        "id": "UXLqzQ4ZdDLK"
      },
      "execution_count": null,
      "outputs": []
    },
    {
      "cell_type": "code",
      "source": [
        ""
      ],
      "metadata": {
        "id": "3qT8o009a7Hj"
      },
      "execution_count": null,
      "outputs": []
    },
    {
      "cell_type": "code",
      "source": [
        ""
      ],
      "metadata": {
        "id": "fY6McSVOaVhD"
      },
      "execution_count": null,
      "outputs": []
    },
    {
      "cell_type": "code",
      "source": [
        "#Ahora añadimos la primera capa convolucional, con 6 filtros, cada uno de 5x5, sin padding y con stride igual a 1 y función de \n",
        "#activación ReLU. Debemos igualmente definir de forma explícita el tamaño de cada imagen de entrada (28x28x1):\n",
        "\n",
        "# CONV1 Y MAX-POOLING1\n",
        "modelo.add(Conv2D(filters=6, kernel_size=(5,5), activation='relu', input_shape=(28,28,1)))"
      ],
      "metadata": {
        "id": "i5ro-JebWiUr"
      },
      "execution_count": null,
      "outputs": []
    },
    {
      "cell_type": "code",
      "source": [
        ""
      ],
      "metadata": {
        "id": "iI2jXU97dD5z"
      },
      "execution_count": null,
      "outputs": []
    },
    {
      "cell_type": "code",
      "source": [
        ""
      ],
      "metadata": {
        "id": "Y1XUbZs3a75X"
      },
      "execution_count": null,
      "outputs": []
    },
    {
      "cell_type": "code",
      "source": [
        ""
      ],
      "metadata": {
        "id": "8KNtgRWwaWW8"
      },
      "execution_count": null,
      "outputs": []
    },
    {
      "cell_type": "code",
      "source": [
        "#Vemos que el uso de Conv2D no requiere en este caso que definamos el padding ni los strides de forma explícita. Por defecto, \n",
        "#Keras usará un padding igual a 0 y un stride igual a 1.\n",
        "\n",
        "#Ahora, añadimos la primera capa max-pooling. En este caso se usan 6 filtros (los mismos de la capa anterior) y no se usa padding. \n",
        "#De nuevo, en Keras basta con definir únicamente el tamaño de cada filtro usando la palabra clave pool_size, los demás parámetros \n",
        "#(padding = 0 y strides = 2 no se deben introducir explícitamente en la función):\n",
        "\n",
        "modelo.add(MaxPooling2D(pool_size=(2,2)))"
      ],
      "metadata": {
        "id": "57cQgvfeW0Ep"
      },
      "execution_count": null,
      "outputs": []
    },
    {
      "cell_type": "code",
      "source": [
        ""
      ],
      "metadata": {
        "id": "SbkNWla1dEkP"
      },
      "execution_count": null,
      "outputs": []
    },
    {
      "cell_type": "code",
      "source": [
        ""
      ],
      "metadata": {
        "id": "UqIQiyBCa_a-"
      },
      "execution_count": null,
      "outputs": []
    },
    {
      "cell_type": "code",
      "source": [
        ""
      ],
      "metadata": {
        "id": "3f6OSZ6oaXCi"
      },
      "execution_count": null,
      "outputs": []
    },
    {
      "cell_type": "code",
      "source": [
        "#La segunda capa convolucional y la segunda de max-pooling se crean de la misma forma que las anteriores, con la única diferencia \n",
        "#que en este caso el número de filtros es igual a 16:\n",
        "\n",
        "# CONV2 Y MAX-POOLING2\n",
        "modelo.add(Conv2D(filters=16, kernel_size=(5,5), activation='relu'))\n",
        "modelo.add(MaxPooling2D(pool_size=(2,2)))"
      ],
      "metadata": {
        "id": "KpYoCH9ZXfb0"
      },
      "execution_count": null,
      "outputs": []
    },
    {
      "cell_type": "code",
      "source": [
        ""
      ],
      "metadata": {
        "id": "_yuHGq0KdGPU"
      },
      "execution_count": null,
      "outputs": []
    },
    {
      "cell_type": "code",
      "source": [
        ""
      ],
      "metadata": {
        "id": "mB__-ABNbAJW"
      },
      "execution_count": null,
      "outputs": []
    },
    {
      "cell_type": "code",
      "source": [
        ""
      ],
      "metadata": {
        "id": "xq5tsIujaXkD"
      },
      "execution_count": null,
      "outputs": []
    },
    {
      "cell_type": "code",
      "source": [
        "#Finalmente, aplanamos el volumen resultante usando Flatten() y creamos la Red Neuronal con 120 neuronas en la primera capa, \n",
        "#84 en la segunda y una salida tipo softmax con 10 categorías.:\n",
        "\n",
        "# Aplanar, FC1, FC2 y salida\n",
        "modelo.add(Flatten())\n",
        "modelo.add(Dense(120,activation='relu'))\n",
        "modelo.add(Dense(84,activation='relu'))\n",
        "modelo.add(Dense(nclases,activation='softmax'))"
      ],
      "metadata": {
        "id": "At-O9HsbXyo2"
      },
      "execution_count": null,
      "outputs": []
    },
    {
      "cell_type": "code",
      "source": [
        ""
      ],
      "metadata": {
        "id": "tWuriWrddLX3"
      },
      "execution_count": null,
      "outputs": []
    },
    {
      "cell_type": "code",
      "source": [
        ""
      ],
      "metadata": {
        "id": "v7eT9TopdHez"
      },
      "execution_count": null,
      "outputs": []
    },
    {
      "cell_type": "code",
      "source": [
        ""
      ],
      "metadata": {
        "id": "TTZcOeMjbAyN"
      },
      "execution_count": null,
      "outputs": []
    },
    {
      "cell_type": "code",
      "source": [
        ""
      ],
      "metadata": {
        "id": "LiuXHNH8aYRp"
      },
      "execution_count": null,
      "outputs": []
    },
    {
      "cell_type": "code",
      "source": [
        "#***Compilación del modelo***\n",
        "#En este paso definimos el optimizador, es decir el método que se usará para actualizar los coeficientes de los filtros y de la Red Neuronal \n",
        "#durante el entrenamiento.\n",
        "\n",
        "#En nuestro caso usaremos el método del Gradiente Descendente, y fijaremos una tasa de aprendizaje de 0.1:\n",
        "\n",
        "sgd = SGD(lr=0.1)"
      ],
      "metadata": {
        "colab": {
          "base_uri": "https://localhost:8080/"
        },
        "id": "Gprj3wPqX8wb",
        "outputId": "8e1ef30d-baea-43f8-a826-8abb18e9493c"
      },
      "execution_count": null,
      "outputs": [
        {
          "output_type": "stream",
          "name": "stderr",
          "text": [
            "/usr/local/lib/python3.7/dist-packages/keras/optimizer_v2/gradient_descent.py:102: UserWarning: The `lr` argument is deprecated, use `learning_rate` instead.\n",
            "  super(SGD, self).__init__(name, **kwargs)\n"
          ]
        }
      ]
    },
    {
      "cell_type": "code",
      "source": [
        ""
      ],
      "metadata": {
        "id": "rqUQ21xhdM88"
      },
      "execution_count": null,
      "outputs": []
    },
    {
      "cell_type": "code",
      "source": [
        ""
      ],
      "metadata": {
        "id": "POobsODUbBz6"
      },
      "execution_count": null,
      "outputs": []
    },
    {
      "cell_type": "code",
      "source": [
        ""
      ],
      "metadata": {
        "id": "Csd2uOT1aZM3"
      },
      "execution_count": null,
      "outputs": []
    },
    {
      "cell_type": "code",
      "source": [
        "#Ahora asociamos este optimizador al modelo creado previamente, y además definimos nuestra función de error y la métrica con la \n",
        "#que evaluaremos el desempeño de la red convolucional. Para esto hacemos uso de la función compile.\n",
        "\n",
        "#Por tener un total de 10 categorías de salida, haremos uso de la “entropía cruzada” (categorical_crossentropy) como función de error, \n",
        "#mientras que el desempeño de la red será evaluado usando la “precisión” (accuracy) definida como número de aciertos sobre el número total \n",
        "#de datos en los sets de entrenamiento y validación:\n",
        "\n",
        "modelo.compile(loss='categorical_crossentropy', optimizer=sgd, metrics=['accuracy'])"
      ],
      "metadata": {
        "id": "2XuYN-OfYKXG"
      },
      "execution_count": null,
      "outputs": []
    },
    {
      "cell_type": "code",
      "source": [
        ""
      ],
      "metadata": {
        "id": "t6birwxZdN5r"
      },
      "execution_count": null,
      "outputs": []
    },
    {
      "cell_type": "code",
      "source": [
        ""
      ],
      "metadata": {
        "id": "1Ws9wfIybEFw"
      },
      "execution_count": null,
      "outputs": []
    },
    {
      "cell_type": "code",
      "source": [
        ""
      ],
      "metadata": {
        "id": "XeoYW_9CaaPX"
      },
      "execution_count": null,
      "outputs": []
    },
    {
      "cell_type": "code",
      "source": [
        "#***Entrenamiento y validación del modelo***\n",
        "#Ahora sí está todo listo para hacer el entrenamiento.\n",
        "\n",
        "#Usaremos un total de 10 iteraciones y, por ser un set de 60,000, en cada iteración del entrenamiento lo dividiremos en bloques de 128 imágenes \n",
        "#(para no tener problemas con el almacenamiento de los datos en memoria).\n",
        "\n",
        "#Para el entrenamiento usamos la función fit y podemos usar la palabra clave validation_data para que durante el mismo entrenamiento Keras \n",
        "#evalúe la precisión que se logra con el set de validación. De todos modos es importante tener en cuenta que este set de validación se usa \n",
        "#sólo para medir el desempeño del modelo, pero no para entrenarlo ni para aprender los coeficientes (para ello se usa el set de entrenamiento):\n",
        "\n",
        "nepochs = 10\n",
        "tam_lote = 128\n",
        "modelo.fit(x_train,y_train,epochs=nepochs,batch_size=tam_lote, verbose=1, validation_data=(x_test,y_test))"
      ],
      "metadata": {
        "colab": {
          "base_uri": "https://localhost:8080/"
        },
        "id": "jjuKi8xvYZtP",
        "outputId": "4d4565bf-437b-4b3c-ad55-33c42f7e684d"
      },
      "execution_count": null,
      "outputs": [
        {
          "output_type": "stream",
          "name": "stdout",
          "text": [
            "Epoch 1/10\n",
            "469/469 [==============================] - 24s 50ms/step - loss: 1.9991 - accuracy: 0.2489 - val_loss: 1.1801 - val_accuracy: 0.4937\n",
            "Epoch 2/10\n",
            "469/469 [==============================] - 22s 48ms/step - loss: 0.7654 - accuracy: 0.7426 - val_loss: 0.4230 - val_accuracy: 0.9109\n",
            "Epoch 3/10\n",
            "469/469 [==============================] - 23s 49ms/step - loss: 0.2489 - accuracy: 0.9461 - val_loss: 0.1582 - val_accuracy: 0.9661\n",
            "Epoch 4/10\n",
            "469/469 [==============================] - 23s 50ms/step - loss: 0.1501 - accuracy: 0.9662 - val_loss: 0.1141 - val_accuracy: 0.9730\n",
            "Epoch 5/10\n",
            "469/469 [==============================] - 22s 48ms/step - loss: 0.1017 - accuracy: 0.9763 - val_loss: 0.1226 - val_accuracy: 0.9769\n",
            "Epoch 6/10\n",
            "469/469 [==============================] - 22s 47ms/step - loss: 0.0792 - accuracy: 0.9812 - val_loss: 0.0875 - val_accuracy: 0.9792\n",
            "Epoch 7/10\n",
            "469/469 [==============================] - 22s 47ms/step - loss: 0.0657 - accuracy: 0.9844 - val_loss: 0.0892 - val_accuracy: 0.9800\n",
            "Epoch 8/10\n",
            "469/469 [==============================] - 22s 47ms/step - loss: 0.0566 - accuracy: 0.9866 - val_loss: 0.0807 - val_accuracy: 0.9843\n",
            "Epoch 9/10\n",
            "469/469 [==============================] - 22s 48ms/step - loss: 0.0436 - accuracy: 0.9898 - val_loss: 0.0707 - val_accuracy: 0.9863\n",
            "Epoch 10/10\n",
            "469/469 [==============================] - 23s 48ms/step - loss: 0.0373 - accuracy: 0.9909 - val_loss: 0.0728 - val_accuracy: 0.9865\n"
          ]
        },
        {
          "output_type": "execute_result",
          "data": {
            "text/plain": [
              "<keras.callbacks.History at 0x7f33ebe37590>"
            ]
          },
          "metadata": {},
          "execution_count": 41
        }
      ]
    },
    {
      "cell_type": "code",
      "source": [
        ""
      ],
      "metadata": {
        "id": "MdieBz64dO8w"
      },
      "execution_count": null,
      "outputs": []
    },
    {
      "cell_type": "code",
      "source": [
        ""
      ],
      "metadata": {
        "id": "51GdlVfRbFf8"
      },
      "execution_count": null,
      "outputs": []
    },
    {
      "cell_type": "code",
      "source": [
        "# Vemos que al finalizar el entrenamiento se alcanza una precisión de más del 99% con el set de entrenamiento, y superior al 98% con el set de validación:\n",
        "\n",
        "#Bien, acabamos de ver que el modelo entrenado tiene un desempeño bastante bueno, pues la precisión con el set de validación \n",
        "#(es decir, con datos que no ha visto previamente) es prácticamente del 99%. Lo anterior quiere decir que de cada 100 datos, \n",
        "#en promedio el modelo clasifica incorrectamente tan sólo 1. ¡Lo cual no está nada mal para esta Red Convolucional!\n",
        "\n",
        "#Para finalizar, veamos cómo analizar el desempeño del modelo de forma más detallada usando algo que se conoce como la matriz de confusión.\n",
        "\n"
      ],
      "metadata": {
        "id": "cQS6BHc5YxCQ"
      },
      "execution_count": null,
      "outputs": []
    },
    {
      "cell_type": "code",
      "source": [
        ""
      ],
      "metadata": {
        "id": "ReongKPuVuZJ"
      },
      "execution_count": null,
      "outputs": []
    },
    {
      "cell_type": "code",
      "source": [
        ""
      ],
      "metadata": {
        "id": "y5ze4FG6VrrW"
      },
      "execution_count": null,
      "outputs": []
    },
    {
      "cell_type": "code",
      "source": [
        ""
      ],
      "metadata": {
        "id": "3IR3KgaQVoBV"
      },
      "execution_count": null,
      "outputs": []
    },
    {
      "cell_type": "code",
      "source": [
        ""
      ],
      "metadata": {
        "id": "KVREqensUTYP"
      },
      "execution_count": null,
      "outputs": []
    }
  ]
}